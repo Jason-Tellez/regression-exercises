{
 "cells": [
  {
   "cell_type": "markdown",
   "id": "c3e6c5e4",
   "metadata": {},
   "source": [
    "## Acquisition and Prep\n",
    "___\n",
    "Let's set up an example scenario as perspective for our regression exercises using the Zillow dataset.\n",
    "\n",
    "As a Codeup data science graduate, you want to show off your skills to the Zillow data science team in hopes of getting an interview for a position you saw pop up on LinkedIn. You thought it might look impressive to build an end-to-end project in which you use some of their Kaggle data to predict property values using some of their available features; who knows, you might even do some feature engineering to blow them away. Your goal is to predict the values of single unit properties using the obervations from 2017.\n",
    "\n",
    "In these exercises, you will complete the first step toward the above goal: acquire and prepare the necessary Zillow data from the zillow database in the Codeup database server.\n",
    "\n",
    "1. Acquire `bedroomcnt`, `bathroomcnt`, `calculatedfinishedsquarefeet`, `taxvaluedollarcnt`, `yearbuilt`, `taxamount`, and `fips` from the `zillow` database for all 'Single Family Residential' properties.\n",
    "\n",
    "1. Using your acquired Zillow data, walk through the summarization and cleaning steps in your `wrangle.ipynb` file like we did above. You may handle the missing values however you feel is appropriate and meaninful; remember to document your process and decisions using markdown and code commenting where helpful.\n",
    "\n",
    "1. Store all of the necessary functions to automate your process from acquiring the data to returning a cleaned dataframe witn no missing values in your `wrangle.py` file. Name your final function `wrangle_zillow`."
   ]
  },
  {
   "cell_type": "code",
   "execution_count": 1,
   "id": "37a0c79e",
   "metadata": {},
   "outputs": [],
   "source": [
    "import warnings\n",
    "warnings.filterwarnings(\"ignore\")\n",
    "\n",
    "import matplotlib.pyplot as plt\n",
    "import seaborn as sns\n",
    "\n",
    "import os\n",
    "from env import host, user, password\n",
    "import numpy as np\n",
    "import pandas as pd\n",
    "from sklearn.model_selection import train_test_split"
   ]
  },
  {
   "cell_type": "markdown",
   "id": "06db6972",
   "metadata": {},
   "source": [
    "## Acquire"
   ]
  },
  {
   "cell_type": "code",
   "execution_count": 2,
   "id": "f1e4473b",
   "metadata": {},
   "outputs": [],
   "source": [
    "################### Connects to Sequel Ace using credentials ###################\n",
    "\n",
    "def get_connection(db, user=user, host=host, password=password):\n",
    "    '''\n",
    "    This function uses my info from my env file to\n",
    "    create a connection url to access the Codeup db.\n",
    "    It takes in a string name of a database as an argument.\n",
    "    '''\n",
    "    return f'mysql+pymysql://{user}:{password}@{host}/{db}'\n",
    "\n",
    "################### Create new dataframe from SQL db ###################\n",
    "    \n",
    "def new_zillow_data():\n",
    "    '''\n",
    "    This function reads the zillow data from the Codeup db into a df,\n",
    "    writes it to a csv file, and returns the df.\n",
    "    '''\n",
    "\n",
    "    # Create SQL query.\n",
    "    sql_query = \"\"\"\n",
    "           SELECT bedroomcnt, \n",
    "               bathroomcnt, \n",
    "               calculatedfinishedsquarefeet, \n",
    "               taxvaluedollarcnt, \n",
    "               yearbuilt, \n",
    "               taxamount, \n",
    "               fips\n",
    "            FROM properties_2017\n",
    "            WHERE propertylandusetypeid = 261;            \n",
    "            \"\"\"\n",
    "    # Read in DataFrame from Codeup's SQL db.\n",
    "    df = pd.read_sql(sql_query, get_connection('zillow'))\n",
    "    \n",
    "    return df\n",
    "\n",
    "\n",
    "################### Acquire existing csv file ###################\n",
    "\n",
    "def get_zillow_data():\n",
    "    '''\n",
    "    This function reads in zillow data from Codeup database, writes data to\n",
    "    a csv file if a local file does not exist, and returns a df.\n",
    "    '''\n",
    "    if os.path.isfile('zillow.csv'):\n",
    "        \n",
    "        # If csv file exists, read in data from csv file.\n",
    "        df = pd.read_csv('zillow.csv', index_col=0)\n",
    "        \n",
    "    else:\n",
    "        \n",
    "        # Read fresh data from db into a DataFrame.\n",
    "        df = new_zillow_data()\n",
    "        \n",
    "        # Write DataFrame to a csv file.\n",
    "        df.to_csv('zillow.csv')\n",
    "        \n",
    "    return df"
   ]
  },
  {
   "cell_type": "code",
   "execution_count": 3,
   "id": "8feaa1bb",
   "metadata": {},
   "outputs": [
    {
     "data": {
      "text/html": [
       "<div>\n",
       "<style scoped>\n",
       "    .dataframe tbody tr th:only-of-type {\n",
       "        vertical-align: middle;\n",
       "    }\n",
       "\n",
       "    .dataframe tbody tr th {\n",
       "        vertical-align: top;\n",
       "    }\n",
       "\n",
       "    .dataframe thead th {\n",
       "        text-align: right;\n",
       "    }\n",
       "</style>\n",
       "<table border=\"1\" class=\"dataframe\">\n",
       "  <thead>\n",
       "    <tr style=\"text-align: right;\">\n",
       "      <th></th>\n",
       "      <th>bedroomcnt</th>\n",
       "      <th>bathroomcnt</th>\n",
       "      <th>calculatedfinishedsquarefeet</th>\n",
       "      <th>taxvaluedollarcnt</th>\n",
       "      <th>yearbuilt</th>\n",
       "      <th>taxamount</th>\n",
       "      <th>fips</th>\n",
       "    </tr>\n",
       "  </thead>\n",
       "  <tbody>\n",
       "    <tr>\n",
       "      <th>0</th>\n",
       "      <td>0.0</td>\n",
       "      <td>0.0</td>\n",
       "      <td>NaN</td>\n",
       "      <td>27516.0</td>\n",
       "      <td>NaN</td>\n",
       "      <td>NaN</td>\n",
       "      <td>6037.0</td>\n",
       "    </tr>\n",
       "    <tr>\n",
       "      <th>1</th>\n",
       "      <td>0.0</td>\n",
       "      <td>0.0</td>\n",
       "      <td>NaN</td>\n",
       "      <td>10.0</td>\n",
       "      <td>NaN</td>\n",
       "      <td>NaN</td>\n",
       "      <td>6037.0</td>\n",
       "    </tr>\n",
       "    <tr>\n",
       "      <th>2</th>\n",
       "      <td>0.0</td>\n",
       "      <td>0.0</td>\n",
       "      <td>NaN</td>\n",
       "      <td>10.0</td>\n",
       "      <td>NaN</td>\n",
       "      <td>NaN</td>\n",
       "      <td>6037.0</td>\n",
       "    </tr>\n",
       "    <tr>\n",
       "      <th>3</th>\n",
       "      <td>0.0</td>\n",
       "      <td>0.0</td>\n",
       "      <td>NaN</td>\n",
       "      <td>2108.0</td>\n",
       "      <td>NaN</td>\n",
       "      <td>174.21</td>\n",
       "      <td>6037.0</td>\n",
       "    </tr>\n",
       "    <tr>\n",
       "      <th>4</th>\n",
       "      <td>4.0</td>\n",
       "      <td>2.0</td>\n",
       "      <td>3633.0</td>\n",
       "      <td>296425.0</td>\n",
       "      <td>2005.0</td>\n",
       "      <td>6941.39</td>\n",
       "      <td>6037.0</td>\n",
       "    </tr>\n",
       "  </tbody>\n",
       "</table>\n",
       "</div>"
      ],
      "text/plain": [
       "   bedroomcnt  bathroomcnt  calculatedfinishedsquarefeet  taxvaluedollarcnt  \\\n",
       "0         0.0          0.0                           NaN            27516.0   \n",
       "1         0.0          0.0                           NaN               10.0   \n",
       "2         0.0          0.0                           NaN               10.0   \n",
       "3         0.0          0.0                           NaN             2108.0   \n",
       "4         4.0          2.0                        3633.0           296425.0   \n",
       "\n",
       "   yearbuilt  taxamount    fips  \n",
       "0        NaN        NaN  6037.0  \n",
       "1        NaN        NaN  6037.0  \n",
       "2        NaN        NaN  6037.0  \n",
       "3        NaN     174.21  6037.0  \n",
       "4     2005.0    6941.39  6037.0  "
      ]
     },
     "execution_count": 3,
     "metadata": {},
     "output_type": "execute_result"
    }
   ],
   "source": [
    "df = get_zillow_data()\n",
    "df.head()"
   ]
  },
  {
   "cell_type": "code",
   "execution_count": 4,
   "id": "9789bfdd",
   "metadata": {},
   "outputs": [
    {
     "data": {
      "text/plain": [
       "(2152863, 7)"
      ]
     },
     "execution_count": 4,
     "metadata": {},
     "output_type": "execute_result"
    }
   ],
   "source": [
    "df.shape"
   ]
  },
  {
   "cell_type": "code",
   "execution_count": 5,
   "id": "54238919",
   "metadata": {},
   "outputs": [
    {
     "name": "stdout",
     "output_type": "stream",
     "text": [
      "<class 'pandas.core.frame.DataFrame'>\n",
      "Int64Index: 2152863 entries, 0 to 2152862\n",
      "Data columns (total 7 columns):\n",
      " #   Column                        Dtype  \n",
      "---  ------                        -----  \n",
      " 0   bedroomcnt                    float64\n",
      " 1   bathroomcnt                   float64\n",
      " 2   calculatedfinishedsquarefeet  float64\n",
      " 3   taxvaluedollarcnt             float64\n",
      " 4   yearbuilt                     float64\n",
      " 5   taxamount                     float64\n",
      " 6   fips                          float64\n",
      "dtypes: float64(7)\n",
      "memory usage: 131.4 MB\n"
     ]
    }
   ],
   "source": [
    "df.info()"
   ]
  },
  {
   "cell_type": "code",
   "execution_count": 6,
   "id": "d07b42fc",
   "metadata": {},
   "outputs": [
    {
     "data": {
      "text/html": [
       "<div>\n",
       "<style scoped>\n",
       "    .dataframe tbody tr th:only-of-type {\n",
       "        vertical-align: middle;\n",
       "    }\n",
       "\n",
       "    .dataframe tbody tr th {\n",
       "        vertical-align: top;\n",
       "    }\n",
       "\n",
       "    .dataframe thead th {\n",
       "        text-align: right;\n",
       "    }\n",
       "</style>\n",
       "<table border=\"1\" class=\"dataframe\">\n",
       "  <thead>\n",
       "    <tr style=\"text-align: right;\">\n",
       "      <th></th>\n",
       "      <th>bedroomcnt</th>\n",
       "      <th>bathroomcnt</th>\n",
       "      <th>calculatedfinishedsquarefeet</th>\n",
       "      <th>taxvaluedollarcnt</th>\n",
       "      <th>yearbuilt</th>\n",
       "      <th>taxamount</th>\n",
       "      <th>fips</th>\n",
       "    </tr>\n",
       "  </thead>\n",
       "  <tbody>\n",
       "    <tr>\n",
       "      <th>count</th>\n",
       "      <td>2.152852e+06</td>\n",
       "      <td>2.152852e+06</td>\n",
       "      <td>2.144379e+06</td>\n",
       "      <td>2.152370e+06</td>\n",
       "      <td>2.143526e+06</td>\n",
       "      <td>2.148421e+06</td>\n",
       "      <td>2.152863e+06</td>\n",
       "    </tr>\n",
       "    <tr>\n",
       "      <th>mean</th>\n",
       "      <td>3.287196e+00</td>\n",
       "      <td>2.230688e+00</td>\n",
       "      <td>1.862855e+03</td>\n",
       "      <td>4.618962e+05</td>\n",
       "      <td>1.960950e+03</td>\n",
       "      <td>5.634866e+03</td>\n",
       "      <td>6.048377e+03</td>\n",
       "    </tr>\n",
       "    <tr>\n",
       "      <th>std</th>\n",
       "      <td>9.547544e-01</td>\n",
       "      <td>9.992796e-01</td>\n",
       "      <td>1.222125e+03</td>\n",
       "      <td>6.996760e+05</td>\n",
       "      <td>2.216220e+01</td>\n",
       "      <td>8.178910e+03</td>\n",
       "      <td>2.043329e+01</td>\n",
       "    </tr>\n",
       "    <tr>\n",
       "      <th>min</th>\n",
       "      <td>0.000000e+00</td>\n",
       "      <td>0.000000e+00</td>\n",
       "      <td>1.000000e+00</td>\n",
       "      <td>1.000000e+00</td>\n",
       "      <td>1.801000e+03</td>\n",
       "      <td>1.850000e+00</td>\n",
       "      <td>6.037000e+03</td>\n",
       "    </tr>\n",
       "    <tr>\n",
       "      <th>25%</th>\n",
       "      <td>3.000000e+00</td>\n",
       "      <td>2.000000e+00</td>\n",
       "      <td>1.257000e+03</td>\n",
       "      <td>1.881702e+05</td>\n",
       "      <td>1.949000e+03</td>\n",
       "      <td>2.534980e+03</td>\n",
       "      <td>6.037000e+03</td>\n",
       "    </tr>\n",
       "    <tr>\n",
       "      <th>50%</th>\n",
       "      <td>3.000000e+00</td>\n",
       "      <td>2.000000e+00</td>\n",
       "      <td>1.623000e+03</td>\n",
       "      <td>3.276710e+05</td>\n",
       "      <td>1.958000e+03</td>\n",
       "      <td>4.108950e+03</td>\n",
       "      <td>6.037000e+03</td>\n",
       "    </tr>\n",
       "    <tr>\n",
       "      <th>75%</th>\n",
       "      <td>4.000000e+00</td>\n",
       "      <td>3.000000e+00</td>\n",
       "      <td>2.208000e+03</td>\n",
       "      <td>5.345270e+05</td>\n",
       "      <td>1.976000e+03</td>\n",
       "      <td>6.414320e+03</td>\n",
       "      <td>6.059000e+03</td>\n",
       "    </tr>\n",
       "    <tr>\n",
       "      <th>max</th>\n",
       "      <td>2.500000e+01</td>\n",
       "      <td>3.200000e+01</td>\n",
       "      <td>9.525760e+05</td>\n",
       "      <td>9.842891e+07</td>\n",
       "      <td>2.016000e+03</td>\n",
       "      <td>1.337756e+06</td>\n",
       "      <td>6.111000e+03</td>\n",
       "    </tr>\n",
       "  </tbody>\n",
       "</table>\n",
       "</div>"
      ],
      "text/plain": [
       "         bedroomcnt   bathroomcnt  calculatedfinishedsquarefeet  \\\n",
       "count  2.152852e+06  2.152852e+06                  2.144379e+06   \n",
       "mean   3.287196e+00  2.230688e+00                  1.862855e+03   \n",
       "std    9.547544e-01  9.992796e-01                  1.222125e+03   \n",
       "min    0.000000e+00  0.000000e+00                  1.000000e+00   \n",
       "25%    3.000000e+00  2.000000e+00                  1.257000e+03   \n",
       "50%    3.000000e+00  2.000000e+00                  1.623000e+03   \n",
       "75%    4.000000e+00  3.000000e+00                  2.208000e+03   \n",
       "max    2.500000e+01  3.200000e+01                  9.525760e+05   \n",
       "\n",
       "       taxvaluedollarcnt     yearbuilt     taxamount          fips  \n",
       "count       2.152370e+06  2.143526e+06  2.148421e+06  2.152863e+06  \n",
       "mean        4.618962e+05  1.960950e+03  5.634866e+03  6.048377e+03  \n",
       "std         6.996760e+05  2.216220e+01  8.178910e+03  2.043329e+01  \n",
       "min         1.000000e+00  1.801000e+03  1.850000e+00  6.037000e+03  \n",
       "25%         1.881702e+05  1.949000e+03  2.534980e+03  6.037000e+03  \n",
       "50%         3.276710e+05  1.958000e+03  4.108950e+03  6.037000e+03  \n",
       "75%         5.345270e+05  1.976000e+03  6.414320e+03  6.059000e+03  \n",
       "max         9.842891e+07  2.016000e+03  1.337756e+06  6.111000e+03  "
      ]
     },
     "execution_count": 6,
     "metadata": {},
     "output_type": "execute_result"
    }
   ],
   "source": [
    "df.describe()"
   ]
  },
  {
   "cell_type": "code",
   "execution_count": 7,
   "id": "e582836f",
   "metadata": {
    "scrolled": true
   },
   "outputs": [
    {
     "data": {
      "text/plain": [
       "bedroomcnt                        11\n",
       "bathroomcnt                       11\n",
       "calculatedfinishedsquarefeet    8484\n",
       "taxvaluedollarcnt                493\n",
       "yearbuilt                       9337\n",
       "taxamount                       4442\n",
       "fips                               0\n",
       "dtype: int64"
      ]
     },
     "execution_count": 7,
     "metadata": {},
     "output_type": "execute_result"
    }
   ],
   "source": [
    "df.isnull().sum()"
   ]
  },
  {
   "cell_type": "code",
   "execution_count": 8,
   "id": "5c076454",
   "metadata": {
    "scrolled": true
   },
   "outputs": [
    {
     "data": {
      "text/plain": [
       "bedroomcnt                          19\n",
       "bathroomcnt                         38\n",
       "calculatedfinishedsquarefeet     10580\n",
       "taxvaluedollarcnt               592269\n",
       "yearbuilt                          153\n",
       "taxamount                       918838\n",
       "fips                                 3\n",
       "dtype: int64"
      ]
     },
     "execution_count": 8,
     "metadata": {},
     "output_type": "execute_result"
    }
   ],
   "source": [
    "df.nunique()"
   ]
  },
  {
   "cell_type": "code",
   "execution_count": 9,
   "id": "7779482b",
   "metadata": {},
   "outputs": [
    {
     "data": {
      "text/plain": [
       "11644"
      ]
     },
     "execution_count": 9,
     "metadata": {},
     "output_type": "execute_result"
    }
   ],
   "source": [
    "df.duplicated().sum()"
   ]
  },
  {
   "cell_type": "markdown",
   "id": "a3fec155",
   "metadata": {},
   "source": [
    "#### Acquire and Summarize Takeaways\n",
    "\n",
    "- All columns but `fips` are missing values\n",
    "- Why are `bedroomcnt` and `yearbuilt` floats?\n",
    "    - Should they be changed to ints?\n",
    "- `calculatedfinishedsquarefeet` and `yearbuilt` are missing almost over 8000 values\n",
    "- We have duplicated results but cause is unknown\n",
    "    - Multiple units built the same\n",
    "    - One unit inputted more than once\n",
    "- `fips` is the zipcode and is missing the first digit\n",
    "    - will caste to string and add 0 to front\n",
    "    \n",
    "___"
   ]
  },
  {
   "cell_type": "markdown",
   "id": "48ec3280",
   "metadata": {},
   "source": [
    "## Prepare the Data\n",
    "\n",
    "\n",
    "### Rename columns"
   ]
  },
  {
   "cell_type": "code",
   "execution_count": 10,
   "id": "690beb35",
   "metadata": {},
   "outputs": [],
   "source": [
    "df = df.rename(columns={'bedroomcnt': 'bed',\n",
    "                       'bathroomcnt': 'bath',\n",
    "                       'calculatedfinishedsquarefeet': 'sqft',\n",
    "                       'taxvaluedollarcnt': 'prop_value',\n",
    "                       'yearbuilt': 'year',\n",
    "                       'taxamount': 'prop_tax',\n",
    "                       'fips': 'zip'})"
   ]
  },
  {
   "cell_type": "markdown",
   "id": "6291343c",
   "metadata": {},
   "source": [
    "### Address the null values"
   ]
  },
  {
   "cell_type": "code",
   "execution_count": 11,
   "id": "5a03109e",
   "metadata": {},
   "outputs": [
    {
     "data": {
      "text/plain": [
       "bed             11\n",
       "bath            11\n",
       "sqft          8484\n",
       "prop_value     493\n",
       "year          9337\n",
       "prop_tax      4442\n",
       "zip              0\n",
       "dtype: int64"
      ]
     },
     "execution_count": 11,
     "metadata": {},
     "output_type": "execute_result"
    }
   ],
   "source": [
    "df.isnull().sum()"
   ]
  },
  {
   "cell_type": "markdown",
   "id": "22fb7ca3",
   "metadata": {},
   "source": [
    "I will drop all missing values since they do not make up a large fraction of the original dataset"
   ]
  },
  {
   "cell_type": "code",
   "execution_count": 12,
   "id": "b56ac8df",
   "metadata": {},
   "outputs": [
    {
     "data": {
      "text/plain": [
       "bed           False\n",
       "bath          False\n",
       "sqft          False\n",
       "prop_value    False\n",
       "year          False\n",
       "prop_tax      False\n",
       "zip           False\n",
       "dtype: bool"
      ]
     },
     "execution_count": 12,
     "metadata": {},
     "output_type": "execute_result"
    }
   ],
   "source": [
    "df.dropna(axis=0, inplace=True)\n",
    "df.isnull().any()"
   ]
  },
  {
   "cell_type": "code",
   "execution_count": 13,
   "id": "032b6394",
   "metadata": {},
   "outputs": [
    {
     "data": {
      "text/plain": [
       "(2140235, 7)"
      ]
     },
     "execution_count": 13,
     "metadata": {},
     "output_type": "execute_result"
    }
   ],
   "source": [
    "df.shape"
   ]
  },
  {
   "cell_type": "markdown",
   "id": "c6619a60",
   "metadata": {},
   "source": [
    "### Address the duplicates"
   ]
  },
  {
   "cell_type": "code",
   "execution_count": 14,
   "id": "7e789728",
   "metadata": {},
   "outputs": [
    {
     "data": {
      "text/plain": [
       "10021"
      ]
     },
     "execution_count": 14,
     "metadata": {},
     "output_type": "execute_result"
    }
   ],
   "source": [
    "df.duplicated().sum()"
   ]
  },
  {
   "cell_type": "code",
   "execution_count": 15,
   "id": "1603cccb",
   "metadata": {},
   "outputs": [
    {
     "data": {
      "text/plain": [
       "0"
      ]
     },
     "execution_count": 15,
     "metadata": {},
     "output_type": "execute_result"
    }
   ],
   "source": [
    "df.drop_duplicates(inplace=True)\n",
    "df.duplicated().sum()"
   ]
  },
  {
   "cell_type": "code",
   "execution_count": 16,
   "id": "2b30b46f",
   "metadata": {},
   "outputs": [
    {
     "data": {
      "text/plain": [
       "(2130214, 7)"
      ]
     },
     "execution_count": 16,
     "metadata": {},
     "output_type": "execute_result"
    }
   ],
   "source": [
    "df.shape"
   ]
  },
  {
   "cell_type": "markdown",
   "id": "10f6cab1",
   "metadata": {},
   "source": [
    "### Change dtypes"
   ]
  },
  {
   "cell_type": "code",
   "execution_count": 17,
   "id": "fea0559c",
   "metadata": {},
   "outputs": [
    {
     "name": "stdout",
     "output_type": "stream",
     "text": [
      "<class 'pandas.core.frame.DataFrame'>\n",
      "Int64Index: 2130214 entries, 4 to 2152862\n",
      "Data columns (total 7 columns):\n",
      " #   Column      Dtype  \n",
      "---  ------      -----  \n",
      " 0   bed         float64\n",
      " 1   bath        float64\n",
      " 2   sqft        float64\n",
      " 3   prop_value  float64\n",
      " 4   year        float64\n",
      " 5   prop_tax    float64\n",
      " 6   zip         float64\n",
      "dtypes: float64(7)\n",
      "memory usage: 130.0 MB\n"
     ]
    }
   ],
   "source": [
    "df.info()"
   ]
  },
  {
   "cell_type": "code",
   "execution_count": 18,
   "id": "e8ebde34",
   "metadata": {
    "scrolled": true
   },
   "outputs": [],
   "source": [
    "df['bed'] = df.bed.astype(int)\n",
    "\n",
    "df['year'] = df.year.astype(int)\n",
    "\n",
    "df['zip'] = '0' + df.zip.astype(int).astype(str)"
   ]
  },
  {
   "cell_type": "code",
   "execution_count": 19,
   "id": "bf332a1f",
   "metadata": {},
   "outputs": [
    {
     "data": {
      "text/plain": [
       "06037    1422505\n",
       "06059     546579\n",
       "06111     161130\n",
       "Name: zip, dtype: int64"
      ]
     },
     "execution_count": 19,
     "metadata": {},
     "output_type": "execute_result"
    }
   ],
   "source": [
    "df['zip'].value_counts()"
   ]
  },
  {
   "cell_type": "code",
   "execution_count": 20,
   "id": "7fc9c6d0",
   "metadata": {},
   "outputs": [
    {
     "name": "stdout",
     "output_type": "stream",
     "text": [
      "<class 'pandas.core.frame.DataFrame'>\n",
      "Int64Index: 2130214 entries, 4 to 2152862\n",
      "Data columns (total 7 columns):\n",
      " #   Column      Dtype  \n",
      "---  ------      -----  \n",
      " 0   bed         int64  \n",
      " 1   bath        float64\n",
      " 2   sqft        float64\n",
      " 3   prop_value  float64\n",
      " 4   year        int64  \n",
      " 5   prop_tax    float64\n",
      " 6   zip         object \n",
      "dtypes: float64(4), int64(2), object(1)\n",
      "memory usage: 130.0+ MB\n"
     ]
    }
   ],
   "source": [
    "df.info()"
   ]
  },
  {
   "cell_type": "markdown",
   "id": "994e354b",
   "metadata": {},
   "source": [
    "#### Prepare Takeaways\n",
    "\n",
    "- We dropped 22,649 observations\n",
    "    - 12,628 had missing values\n",
    "    - 10,021 were duplicate rows\n",
    "- `bed` changed to int (can't have less than a whole bedroom)\n",
    "- `year` changed to int\n",
    "- `zip` changed to string and add '0' to beginning to represent zipcode"
   ]
  },
  {
   "cell_type": "markdown",
   "id": "fe1cbca4",
   "metadata": {},
   "source": [
    "## Visualize Distributions"
   ]
  },
  {
   "cell_type": "code",
   "execution_count": 21,
   "id": "831fc393",
   "metadata": {
    "scrolled": false
   },
   "outputs": [
    {
     "data": {
      "image/png": "[encoded data removed]",
      "text/plain": [
       "<Figure size 1800x288 with 7 Axes>"
      ]
     },
     "metadata": {
      "needs_background": "light"
     },
     "output_type": "display_data"
    }
   ],
   "source": [
    "plt.figure(figsize=(25,4))\n",
    "\n",
    "for i, col in enumerate(df.columns):\n",
    "    \n",
    "    # i starts at 0, but plot nos should start at 1\n",
    "    plot_number = i + 1 \n",
    "    \n",
    "    # Create subplot.\n",
    "    plt.subplot(1,7, plot_number)\n",
    "    \n",
    "    # Title with column name.\n",
    "    plt.title(col)\n",
    "    \n",
    "    # Display histogram for column.\n",
    "    df[col].hist(bins=10, edgecolor='black')\n",
    "    \n",
    "    # Hide gridlines.\n",
    "    plt.grid(False)\n",
    "    \n",
    "    # fit plots clearly\n",
    "    plt.tight_layout()"
   ]
  },
  {
   "cell_type": "code",
   "execution_count": 22,
   "id": "f7035c3f",
   "metadata": {},
   "outputs": [
    {
     "data": {
      "image/png": "[encoded data removed]",
      "text/plain": [
       "<Figure size 1440x720 with 6 Axes>"
      ]
     },
     "metadata": {
      "needs_background": "light"
     },
     "output_type": "display_data"
    }
   ],
   "source": [
    "plt.figure(figsize=(20,10))\n",
    "plt.title('Box plots')\n",
    "for i, col in enumerate(df.drop(columns='zip').columns):\n",
    "    \n",
    "    # i starts at 0, but plot nos should start at 1\n",
    "    plot_number = i + 1 \n",
    "    \n",
    "    # Create subplot.\n",
    "    plt.subplot(1,7, plot_number)\n",
    "    \n",
    "    # Title with column name.\n",
    "    plt.title(col)\n",
    "    \n",
    "    # Display histogram for column.\n",
    "    sns.boxplot(data=df, y=col)\n",
    "    \n",
    "    # Hide gridlines.\n",
    "    plt.grid(False)\n",
    "    \n",
    "    # Show empty x-label\n",
    "    plt.xlabel('')\n",
    "    \n",
    "    # fit plots clearly\n",
    "    plt.tight_layout()"
   ]
  },
  {
   "cell_type": "markdown",
   "id": "75320624",
   "metadata": {},
   "source": [
    "#### Viz Takeaways\n",
    "\n",
    "- `taxvaluedollarcnt`, `taxamount`, and `calculatedfinishedsquarefeet` have the most extreme outliers\n",
    "- will also have to appropriately handle outliers to avoid skewing data\n",
    "    - will remove outliers outside of whiskers"
   ]
  },
  {
   "cell_type": "code",
   "execution_count": 23,
   "id": "3df60dbf",
   "metadata": {},
   "outputs": [
    {
     "data": {
      "text/html": [
       "<div>\n",
       "<style scoped>\n",
       "    .dataframe tbody tr th:only-of-type {\n",
       "        vertical-align: middle;\n",
       "    }\n",
       "\n",
       "    .dataframe tbody tr th {\n",
       "        vertical-align: top;\n",
       "    }\n",
       "\n",
       "    .dataframe thead th {\n",
       "        text-align: right;\n",
       "    }\n",
       "</style>\n",
       "<table border=\"1\" class=\"dataframe\">\n",
       "  <thead>\n",
       "    <tr style=\"text-align: right;\">\n",
       "      <th></th>\n",
       "      <th>bed</th>\n",
       "      <th>bath</th>\n",
       "      <th>sqft</th>\n",
       "      <th>prop_value</th>\n",
       "      <th>year</th>\n",
       "      <th>prop_tax</th>\n",
       "    </tr>\n",
       "  </thead>\n",
       "  <tbody>\n",
       "    <tr>\n",
       "      <th>count</th>\n",
       "      <td>2.130214e+06</td>\n",
       "      <td>2.130214e+06</td>\n",
       "      <td>2.130214e+06</td>\n",
       "      <td>2.130214e+06</td>\n",
       "      <td>2.130214e+06</td>\n",
       "      <td>2.130214e+06</td>\n",
       "    </tr>\n",
       "    <tr>\n",
       "      <th>mean</th>\n",
       "      <td>3.301635e+00</td>\n",
       "      <td>2.240947e+00</td>\n",
       "      <td>1.864458e+03</td>\n",
       "      <td>4.612502e+05</td>\n",
       "      <td>1.960913e+03</td>\n",
       "      <td>5.624180e+03</td>\n",
       "    </tr>\n",
       "    <tr>\n",
       "      <th>std</th>\n",
       "      <td>9.328257e-01</td>\n",
       "      <td>9.915841e-01</td>\n",
       "      <td>1.223700e+03</td>\n",
       "      <td>6.784025e+05</td>\n",
       "      <td>2.214842e+01</td>\n",
       "      <td>7.828718e+03</td>\n",
       "    </tr>\n",
       "    <tr>\n",
       "      <th>min</th>\n",
       "      <td>0.000000e+00</td>\n",
       "      <td>0.000000e+00</td>\n",
       "      <td>1.000000e+00</td>\n",
       "      <td>2.200000e+01</td>\n",
       "      <td>1.801000e+03</td>\n",
       "      <td>6.340000e+00</td>\n",
       "    </tr>\n",
       "    <tr>\n",
       "      <th>25%</th>\n",
       "      <td>3.000000e+00</td>\n",
       "      <td>2.000000e+00</td>\n",
       "      <td>1.258000e+03</td>\n",
       "      <td>1.896252e+05</td>\n",
       "      <td>1.949000e+03</td>\n",
       "      <td>2.546940e+03</td>\n",
       "    </tr>\n",
       "    <tr>\n",
       "      <th>50%</th>\n",
       "      <td>3.000000e+00</td>\n",
       "      <td>2.000000e+00</td>\n",
       "      <td>1.624000e+03</td>\n",
       "      <td>3.284255e+05</td>\n",
       "      <td>1.958000e+03</td>\n",
       "      <td>4.112860e+03</td>\n",
       "    </tr>\n",
       "    <tr>\n",
       "      <th>75%</th>\n",
       "      <td>4.000000e+00</td>\n",
       "      <td>3.000000e+00</td>\n",
       "      <td>2.210000e+03</td>\n",
       "      <td>5.346568e+05</td>\n",
       "      <td>1.975000e+03</td>\n",
       "      <td>6.414560e+03</td>\n",
       "    </tr>\n",
       "    <tr>\n",
       "      <th>max</th>\n",
       "      <td>2.500000e+01</td>\n",
       "      <td>3.200000e+01</td>\n",
       "      <td>9.525760e+05</td>\n",
       "      <td>9.018846e+07</td>\n",
       "      <td>2.016000e+03</td>\n",
       "      <td>1.078102e+06</td>\n",
       "    </tr>\n",
       "  </tbody>\n",
       "</table>\n",
       "</div>"
      ],
      "text/plain": [
       "                bed          bath          sqft    prop_value          year  \\\n",
       "count  2.130214e+06  2.130214e+06  2.130214e+06  2.130214e+06  2.130214e+06   \n",
       "mean   3.301635e+00  2.240947e+00  1.864458e+03  4.612502e+05  1.960913e+03   \n",
       "std    9.328257e-01  9.915841e-01  1.223700e+03  6.784025e+05  2.214842e+01   \n",
       "min    0.000000e+00  0.000000e+00  1.000000e+00  2.200000e+01  1.801000e+03   \n",
       "25%    3.000000e+00  2.000000e+00  1.258000e+03  1.896252e+05  1.949000e+03   \n",
       "50%    3.000000e+00  2.000000e+00  1.624000e+03  3.284255e+05  1.958000e+03   \n",
       "75%    4.000000e+00  3.000000e+00  2.210000e+03  5.346568e+05  1.975000e+03   \n",
       "max    2.500000e+01  3.200000e+01  9.525760e+05  9.018846e+07  2.016000e+03   \n",
       "\n",
       "           prop_tax  \n",
       "count  2.130214e+06  \n",
       "mean   5.624180e+03  \n",
       "std    7.828718e+03  \n",
       "min    6.340000e+00  \n",
       "25%    2.546940e+03  \n",
       "50%    4.112860e+03  \n",
       "75%    6.414560e+03  \n",
       "max    1.078102e+06  "
      ]
     },
     "execution_count": 23,
     "metadata": {},
     "output_type": "execute_result"
    }
   ],
   "source": [
    "df.describe()"
   ]
  },
  {
   "cell_type": "code",
   "execution_count": 24,
   "id": "f5998efa",
   "metadata": {
    "scrolled": true
   },
   "outputs": [
    {
     "name": "stdout",
     "output_type": "stream",
     "text": [
      "5.5\n",
      "4.5\n",
      "3454.5\n",
      "955426.5\n",
      "2006.5\n",
      "10352.37125\n"
     ]
    },
    {
     "data": {
      "text/html": [
       "<div>\n",
       "<style scoped>\n",
       "    .dataframe tbody tr th:only-of-type {\n",
       "        vertical-align: middle;\n",
       "    }\n",
       "\n",
       "    .dataframe tbody tr th {\n",
       "        vertical-align: top;\n",
       "    }\n",
       "\n",
       "    .dataframe thead th {\n",
       "        text-align: right;\n",
       "    }\n",
       "</style>\n",
       "<table border=\"1\" class=\"dataframe\">\n",
       "  <thead>\n",
       "    <tr style=\"text-align: right;\">\n",
       "      <th></th>\n",
       "      <th>bed</th>\n",
       "      <th>bath</th>\n",
       "      <th>sqft</th>\n",
       "      <th>prop_value</th>\n",
       "      <th>year</th>\n",
       "      <th>prop_tax</th>\n",
       "      <th>zip</th>\n",
       "    </tr>\n",
       "  </thead>\n",
       "  <tbody>\n",
       "    <tr>\n",
       "      <th>7</th>\n",
       "      <td>3</td>\n",
       "      <td>2.0</td>\n",
       "      <td>2077.0</td>\n",
       "      <td>646760.0</td>\n",
       "      <td>1926</td>\n",
       "      <td>7924.68</td>\n",
       "      <td>06037</td>\n",
       "    </tr>\n",
       "    <tr>\n",
       "      <th>18</th>\n",
       "      <td>3</td>\n",
       "      <td>1.0</td>\n",
       "      <td>1244.0</td>\n",
       "      <td>169471.0</td>\n",
       "      <td>1950</td>\n",
       "      <td>2532.88</td>\n",
       "      <td>06037</td>\n",
       "    </tr>\n",
       "    <tr>\n",
       "      <th>19</th>\n",
       "      <td>3</td>\n",
       "      <td>2.0</td>\n",
       "      <td>1300.0</td>\n",
       "      <td>233266.0</td>\n",
       "      <td>1950</td>\n",
       "      <td>3110.99</td>\n",
       "      <td>06037</td>\n",
       "    </tr>\n",
       "    <tr>\n",
       "      <th>20</th>\n",
       "      <td>3</td>\n",
       "      <td>2.0</td>\n",
       "      <td>1222.0</td>\n",
       "      <td>290492.0</td>\n",
       "      <td>1951</td>\n",
       "      <td>3870.25</td>\n",
       "      <td>06037</td>\n",
       "    </tr>\n",
       "    <tr>\n",
       "      <th>40</th>\n",
       "      <td>2</td>\n",
       "      <td>1.0</td>\n",
       "      <td>725.0</td>\n",
       "      <td>37548.0</td>\n",
       "      <td>1953</td>\n",
       "      <td>576.47</td>\n",
       "      <td>06037</td>\n",
       "    </tr>\n",
       "    <tr>\n",
       "      <th>...</th>\n",
       "      <td>...</td>\n",
       "      <td>...</td>\n",
       "      <td>...</td>\n",
       "      <td>...</td>\n",
       "      <td>...</td>\n",
       "      <td>...</td>\n",
       "      <td>...</td>\n",
       "    </tr>\n",
       "    <tr>\n",
       "      <th>2152815</th>\n",
       "      <td>4</td>\n",
       "      <td>2.0</td>\n",
       "      <td>1484.0</td>\n",
       "      <td>71859.0</td>\n",
       "      <td>1955</td>\n",
       "      <td>1135.72</td>\n",
       "      <td>06037</td>\n",
       "    </tr>\n",
       "    <tr>\n",
       "      <th>2152824</th>\n",
       "      <td>2</td>\n",
       "      <td>1.0</td>\n",
       "      <td>710.0</td>\n",
       "      <td>175319.0</td>\n",
       "      <td>1940</td>\n",
       "      <td>2040.78</td>\n",
       "      <td>06111</td>\n",
       "    </tr>\n",
       "    <tr>\n",
       "      <th>2152831</th>\n",
       "      <td>3</td>\n",
       "      <td>2.0</td>\n",
       "      <td>1194.0</td>\n",
       "      <td>271536.0</td>\n",
       "      <td>1954</td>\n",
       "      <td>3555.73</td>\n",
       "      <td>06037</td>\n",
       "    </tr>\n",
       "    <tr>\n",
       "      <th>2152852</th>\n",
       "      <td>3</td>\n",
       "      <td>2.0</td>\n",
       "      <td>1917.0</td>\n",
       "      <td>408680.0</td>\n",
       "      <td>1946</td>\n",
       "      <td>4341.32</td>\n",
       "      <td>06111</td>\n",
       "    </tr>\n",
       "    <tr>\n",
       "      <th>2152853</th>\n",
       "      <td>4</td>\n",
       "      <td>2.0</td>\n",
       "      <td>1987.0</td>\n",
       "      <td>259913.0</td>\n",
       "      <td>1955</td>\n",
       "      <td>3175.66</td>\n",
       "      <td>06059</td>\n",
       "    </tr>\n",
       "  </tbody>\n",
       "</table>\n",
       "<p>1795700 rows × 7 columns</p>\n",
       "</div>"
      ],
      "text/plain": [
       "         bed  bath    sqft  prop_value  year  prop_tax    zip\n",
       "7          3   2.0  2077.0    646760.0  1926   7924.68  06037\n",
       "18         3   1.0  1244.0    169471.0  1950   2532.88  06037\n",
       "19         3   2.0  1300.0    233266.0  1950   3110.99  06037\n",
       "20         3   2.0  1222.0    290492.0  1951   3870.25  06037\n",
       "40         2   1.0   725.0     37548.0  1953    576.47  06037\n",
       "...      ...   ...     ...         ...   ...       ...    ...\n",
       "2152815    4   2.0  1484.0     71859.0  1955   1135.72  06037\n",
       "2152824    2   1.0   710.0    175319.0  1940   2040.78  06111\n",
       "2152831    3   2.0  1194.0    271536.0  1954   3555.73  06037\n",
       "2152852    3   2.0  1917.0    408680.0  1946   4341.32  06111\n",
       "2152853    4   2.0  1987.0    259913.0  1955   3175.66  06059\n",
       "\n",
       "[1795700 rows x 7 columns]"
      ]
     },
     "execution_count": 24,
     "metadata": {},
     "output_type": "execute_result"
    }
   ],
   "source": [
    "for col in df.columns.drop('zip'):\n",
    "    Q1, Q3 = df[col].quantile([.25, .75])\n",
    "    IQR = Q3 - Q1\n",
    "    UB = Q3 + 1.5 * IQR\n",
    "    LB = Q1 - 1.5 * IQR\n",
    "    df = df[(df[col] <= UB) & (df[col] >= LB)]\n",
    "    print(UB)\n",
    "df"
   ]
  },
  {
   "cell_type": "code",
   "execution_count": 25,
   "id": "ebf560c7",
   "metadata": {
    "scrolled": false
   },
   "outputs": [
    {
     "data": {
      "text/plain": [
       "(1795700, 7)"
      ]
     },
     "execution_count": 25,
     "metadata": {},
     "output_type": "execute_result"
    }
   ],
   "source": [
    "df.shape"
   ]
  },
  {
   "cell_type": "code",
   "execution_count": 26,
   "id": "49e317af",
   "metadata": {},
   "outputs": [
    {
     "data": {
      "image/png": "[encoded data removed]",
      "text/plain": [
       "<Figure size 1800x288 with 7 Axes>"
      ]
     },
     "metadata": {
      "needs_background": "light"
     },
     "output_type": "display_data"
    }
   ],
   "source": [
    "plt.figure(figsize=(25,4))\n",
    "\n",
    "for i, col in enumerate(df.columns):\n",
    "    \n",
    "    # i starts at 0, but plot nos should start at 1\n",
    "    plot_number = i + 1 \n",
    "    \n",
    "    # Create subplot.\n",
    "    plt.subplot(1,7, plot_number)\n",
    "    \n",
    "    # Title with column name.\n",
    "    plt.title(col)\n",
    "    \n",
    "    # Display histogram for column.\n",
    "    df[col].hist(bins=10, edgecolor='black')\n",
    "    \n",
    "    # Hide gridlines.\n",
    "    plt.grid(False)\n",
    "    \n",
    "    # fit plots clearly\n",
    "    plt.tight_layout()"
   ]
  },
  {
   "cell_type": "code",
   "execution_count": 27,
   "id": "4b354474",
   "metadata": {},
   "outputs": [
    {
     "data": {
      "image/png": "[encoded data removed]",
      "text/plain": [
       "<Figure size 1440x720 with 6 Axes>"
      ]
     },
     "metadata": {
      "needs_background": "light"
     },
     "output_type": "display_data"
    }
   ],
   "source": [
    "plt.figure(figsize=(20,10))\n",
    "plt.title('Box plots')\n",
    "for i, col in enumerate(df.drop(columns='zip').columns):\n",
    "    \n",
    "    # i starts at 0, but plot nos should start at 1\n",
    "    plot_number = i + 1 \n",
    "    \n",
    "    # Create subplot.\n",
    "    plt.subplot(1,7, plot_number)\n",
    "    \n",
    "    # Title with column name.\n",
    "    plt.title(col)\n",
    "    \n",
    "    # Display histogram for column.\n",
    "    sns.boxplot(data=df, y=col)\n",
    "    \n",
    "    # Hide gridlines.\n",
    "    plt.grid(False)\n",
    "    \n",
    "    # Show empty x-label\n",
    "    plt.xlabel('')\n",
    "    \n",
    "    # fit plots clearly\n",
    "    plt.tight_layout()"
   ]
  },
  {
   "cell_type": "code",
   "execution_count": 28,
   "id": "e1a311d7",
   "metadata": {},
   "outputs": [
    {
     "data": {
      "text/plain": [
       "(1795700, 7)"
      ]
     },
     "execution_count": 28,
     "metadata": {},
     "output_type": "execute_result"
    }
   ],
   "source": [
    "df.shape"
   ]
  },
  {
   "cell_type": "markdown",
   "id": "da66dd03",
   "metadata": {},
   "source": [
    "## Split the Data"
   ]
  },
  {
   "cell_type": "code",
   "execution_count": 29,
   "id": "aa0f4e4c",
   "metadata": {},
   "outputs": [],
   "source": [
    "train_validate, test = train_test_split(df, \n",
    "                                        test_size=.1, \n",
    "                                        random_state=123)\n",
    "\n",
    "train, validate = train_test_split(train_validate, \n",
    "                                   test_size=.2, \n",
    "                                   random_state=123)"
   ]
  },
  {
   "cell_type": "code",
   "execution_count": 30,
   "id": "866ca497",
   "metadata": {},
   "outputs": [
    {
     "data": {
      "text/plain": [
       "((1292904, 7), (323226, 7), (179570, 7))"
      ]
     },
     "execution_count": 30,
     "metadata": {},
     "output_type": "execute_result"
    }
   ],
   "source": [
    "train.shape, validate.shape, test.shape"
   ]
  },
  {
   "cell_type": "markdown",
   "id": "45e2daf0",
   "metadata": {},
   "source": [
    "**Final Takeaways**\n",
    "\n",
    "- All rows with missing values were dropped\n",
    "- All columns were renamed\n",
    "- Outliers were removed to avoid skewing of data\n",
    "- ultimately we dropped less than 400,000 rows"
   ]
  }
 ],
 "metadata": {
  "kernelspec": {
   "display_name": "Python 3",
   "language": "python",
   "name": "python3"
  },
  "language_info": {
   "codemirror_mode": {
    "name": "ipython",
    "version": 3
   },
   "file_extension": ".py",
   "mimetype": "text/x-python",
   "name": "python",
   "nbconvert_exporter": "python",
   "pygments_lexer": "ipython3",
   "version": "3.8.8"
  }
 },
 "nbformat": 4,
 "nbformat_minor": 5
}
