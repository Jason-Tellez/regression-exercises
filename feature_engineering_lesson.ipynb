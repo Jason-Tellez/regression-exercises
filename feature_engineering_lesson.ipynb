{
 "cells": [
  {
   "cell_type": "markdown",
   "id": "7dba2493-6545-43d1-85c0-bd71aa194b43",
   "metadata": {},
   "source": [
    "# Feature Engineering\n",
    "\n",
    "In this lesson we discuss some methods for *automated* feature engineering, specifically feature selection.\n",
    "\n",
    "While these methods can produce useful results, they are but a single piece of of the feature engineering puzzle."
   ]
  },
  {
   "cell_type": "markdown",
   "id": "6f0c87db-5c04-4b35-ae9d-6d754f076f83",
   "metadata": {},
   "source": [
    "## Setup"
   ]
  },
  {
   "cell_type": "code",
   "execution_count": 37,
   "id": "5b58cab4-ca6d-4590-8590-42b728149ed2",
   "metadata": {},
   "outputs": [],
   "source": [
    "import pandas as pd\n",
    "import numpy as np\n",
    "import pydataset\n",
    "import matplotlib.pyplot as plt\n",
    "\n",
    "from sklearn.feature_selection import SelectKBest, f_regression, RFE\n",
    "from sklearn.linear_model import LinearRegression\n",
    "from sklearn.model_selection import train_test_split\n",
    "from sklearn.preprocessing import StandardScaler\n",
    "\n",
    "tips = pydataset.data('tips')\n",
    "tips['smoker'] = (tips.smoker == 'Yes').astype(int)\n",
    "tips['dinner'] = (tips.time == 'Dinner').astype(int)"
   ]
  },
  {
   "cell_type": "code",
   "execution_count": 2,
   "id": "9216b7d3",
   "metadata": {},
   "outputs": [
    {
     "data": {
      "text/html": [
       "<div>\n",
       "<style scoped>\n",
       "    .dataframe tbody tr th:only-of-type {\n",
       "        vertical-align: middle;\n",
       "    }\n",
       "\n",
       "    .dataframe tbody tr th {\n",
       "        vertical-align: top;\n",
       "    }\n",
       "\n",
       "    .dataframe thead th {\n",
       "        text-align: right;\n",
       "    }\n",
       "</style>\n",
       "<table border=\"1\" class=\"dataframe\">\n",
       "  <thead>\n",
       "    <tr style=\"text-align: right;\">\n",
       "      <th></th>\n",
       "      <th>total_bill</th>\n",
       "      <th>tip</th>\n",
       "      <th>sex</th>\n",
       "      <th>smoker</th>\n",
       "      <th>day</th>\n",
       "      <th>time</th>\n",
       "      <th>size</th>\n",
       "      <th>dinner</th>\n",
       "    </tr>\n",
       "  </thead>\n",
       "  <tbody>\n",
       "    <tr>\n",
       "      <th>1</th>\n",
       "      <td>16.99</td>\n",
       "      <td>1.01</td>\n",
       "      <td>Female</td>\n",
       "      <td>0</td>\n",
       "      <td>Sun</td>\n",
       "      <td>Dinner</td>\n",
       "      <td>2</td>\n",
       "      <td>1</td>\n",
       "    </tr>\n",
       "    <tr>\n",
       "      <th>2</th>\n",
       "      <td>10.34</td>\n",
       "      <td>1.66</td>\n",
       "      <td>Male</td>\n",
       "      <td>0</td>\n",
       "      <td>Sun</td>\n",
       "      <td>Dinner</td>\n",
       "      <td>3</td>\n",
       "      <td>1</td>\n",
       "    </tr>\n",
       "    <tr>\n",
       "      <th>3</th>\n",
       "      <td>21.01</td>\n",
       "      <td>3.50</td>\n",
       "      <td>Male</td>\n",
       "      <td>0</td>\n",
       "      <td>Sun</td>\n",
       "      <td>Dinner</td>\n",
       "      <td>3</td>\n",
       "      <td>1</td>\n",
       "    </tr>\n",
       "    <tr>\n",
       "      <th>4</th>\n",
       "      <td>23.68</td>\n",
       "      <td>3.31</td>\n",
       "      <td>Male</td>\n",
       "      <td>0</td>\n",
       "      <td>Sun</td>\n",
       "      <td>Dinner</td>\n",
       "      <td>2</td>\n",
       "      <td>1</td>\n",
       "    </tr>\n",
       "    <tr>\n",
       "      <th>5</th>\n",
       "      <td>24.59</td>\n",
       "      <td>3.61</td>\n",
       "      <td>Female</td>\n",
       "      <td>0</td>\n",
       "      <td>Sun</td>\n",
       "      <td>Dinner</td>\n",
       "      <td>4</td>\n",
       "      <td>1</td>\n",
       "    </tr>\n",
       "  </tbody>\n",
       "</table>\n",
       "</div>"
      ],
      "text/plain": [
       "   total_bill   tip     sex  smoker  day    time  size  dinner\n",
       "1       16.99  1.01  Female       0  Sun  Dinner     2       1\n",
       "2       10.34  1.66    Male       0  Sun  Dinner     3       1\n",
       "3       21.01  3.50    Male       0  Sun  Dinner     3       1\n",
       "4       23.68  3.31    Male       0  Sun  Dinner     2       1\n",
       "5       24.59  3.61  Female       0  Sun  Dinner     4       1"
      ]
     },
     "execution_count": 2,
     "metadata": {},
     "output_type": "execute_result"
    }
   ],
   "source": [
    "tips.head()"
   ]
  },
  {
   "cell_type": "code",
   "execution_count": 3,
   "id": "1a68bb10-3c4c-434b-8814-57f93ea67954",
   "metadata": {},
   "outputs": [],
   "source": [
    "X = tips[['total_bill', 'size', 'smoker', 'dinner']]\n",
    "y = tips.tip\n",
    "\n",
    "X_train, X_test, y_train, y_test = train_test_split(X, y, test_size=.2, random_state=123)\n",
    "scaler = StandardScaler()\n",
    "X_train_scaled = scaler.fit_transform(X_train)\n",
    "X_test_scaled = scaler.transform(X_test)"
   ]
  },
  {
   "cell_type": "code",
   "execution_count": 4,
   "id": "81060c0a",
   "metadata": {},
   "outputs": [
    {
     "data": {
      "text/plain": [
       "array([[ 2.22751067,  1.51285289, -0.79915922,  0.59511904],\n",
       "       [-0.4404687 , -0.57939047,  1.2513151 ,  0.59511904],\n",
       "       [-0.76989051, -0.57939047,  1.2513151 ,  0.59511904],\n",
       "       [-1.04984283, -0.57939047, -0.79915922,  0.59511904],\n",
       "       [-1.04197269, -0.57939047,  1.2513151 , -1.6803361 ],\n",
       "       [ 0.02274559, -0.57939047,  1.2513151 , -1.6803361 ],\n",
       "       [-0.70130781, -0.57939047, -0.79915922,  0.59511904],\n",
       "       [ 1.75979916,  1.51285289, -0.79915922,  0.59511904],\n",
       "       [ 1.71145398,  1.51285289, -0.79915922, -1.6803361 ],\n",
       "       [-1.07008035, -0.57939047,  1.2513151 , -1.6803361 ],\n",
       "       [ 0.41850148, -0.57939047,  1.2513151 ,  0.59511904],\n",
       "       [-0.89918576, -0.57939047, -0.79915922,  0.59511904],\n",
       "       [ 0.66922183,  1.51285289, -0.79915922,  0.59511904],\n",
       "       [ 0.21275339,  1.51285289, -0.79915922,  0.59511904],\n",
       "       [ 1.65186573,  3.60509626, -0.79915922, -1.6803361 ],\n",
       "       [ 0.81538168, -0.57939047,  1.2513151 ,  0.59511904],\n",
       "       [ 0.83674351,  3.60509626, -0.79915922, -1.6803361 ],\n",
       "       [-0.99362751, -0.57939047, -0.79915922,  0.59511904],\n",
       "       [-0.77213912, -0.57939047,  1.2513151 , -1.6803361 ],\n",
       "       [ 3.5080958 ,  0.46673121,  1.2513151 ,  0.59511904],\n",
       "       [-0.65183833, -0.57939047, -0.79915922,  0.59511904],\n",
       "       [ 3.22926778,  1.51285289, -0.79915922,  0.59511904],\n",
       "       [-0.79462525, -0.57939047, -0.79915922,  0.59511904],\n",
       "       [-0.1638893 ,  0.46673121,  1.2513151 ,  0.59511904],\n",
       "       [ 1.48659267, -0.57939047,  1.2513151 ,  0.59511904],\n",
       "       [-1.10493385, -0.57939047, -0.79915922, -1.6803361 ],\n",
       "       [-0.71255088, -0.57939047,  1.2513151 ,  0.59511904],\n",
       "       [-1.12517137, -0.57939047,  1.2513151 ,  0.59511904],\n",
       "       [-0.24146645, -0.57939047, -0.79915922,  0.59511904],\n",
       "       [ 0.50282447,  1.51285289, -0.79915922, -1.6803361 ],\n",
       "       [-0.15377054, -0.57939047, -0.79915922,  0.59511904],\n",
       "       [-0.36064294, -0.57939047,  1.2513151 , -1.6803361 ],\n",
       "       [ 0.78502541,  0.46673121,  1.2513151 ,  0.59511904],\n",
       "       [ 1.1459278 ,  3.60509626, -0.79915922, -1.6803361 ],\n",
       "       [ 0.10369566,  1.51285289,  1.2513151 , -1.6803361 ],\n",
       "       [-1.23985064, -1.62551215,  1.2513151 , -1.6803361 ],\n",
       "       [ 0.40051258,  1.51285289,  1.2513151 ,  0.59511904],\n",
       "       [ 2.64237978,  1.51285289,  1.2513151 , -1.6803361 ],\n",
       "       [-0.26395258,  0.46673121, -0.79915922,  0.59511904],\n",
       "       [-0.40786381,  0.46673121, -0.79915922, -1.6803361 ],\n",
       "       [-0.86995379, -0.57939047, -0.79915922, -1.6803361 ],\n",
       "       [ 0.85135949, -0.57939047,  1.2513151 ,  0.59511904],\n",
       "       [-0.51354862, -0.57939047, -0.79915922,  0.59511904],\n",
       "       [ 0.8536081 ,  1.51285289, -0.79915922, -1.6803361 ],\n",
       "       [ 2.35455731, -0.57939047,  1.2513151 ,  0.59511904],\n",
       "       [-0.92841773, -0.57939047,  1.2513151 ,  0.59511904],\n",
       "       [-0.94865525, -0.57939047, -0.79915922, -1.6803361 ],\n",
       "       [-0.71142657, -0.57939047, -0.79915922,  0.59511904],\n",
       "       [-1.33429238, -0.57939047,  1.2513151 ,  0.59511904],\n",
       "       [-0.3707617 ,  0.46673121, -0.79915922,  0.59511904],\n",
       "       [-0.90143437, -0.57939047,  1.2513151 ,  0.59511904],\n",
       "       [-0.14814901,  1.51285289,  1.2513151 ,  0.59511904],\n",
       "       [ 0.23523952, -0.57939047, -0.79915922,  0.59511904],\n",
       "       [-0.13240871,  1.51285289, -0.79915922,  0.59511904],\n",
       "       [-0.57650979, -0.57939047,  1.2513151 ,  0.59511904],\n",
       "       [ 0.57365578, -0.57939047, -0.79915922, -1.6803361 ],\n",
       "       [ 0.28246039, -0.57939047,  1.2513151 ,  0.59511904],\n",
       "       [ 1.49446282, -0.57939047,  1.2513151 ,  0.59511904],\n",
       "       [-0.78113358, -0.57939047, -0.79915922,  0.59511904],\n",
       "       [ 1.21338619,  1.51285289, -0.79915922,  0.59511904],\n",
       "       [ 1.68896785, -0.57939047,  1.2513151 ,  0.59511904],\n",
       "       [ 0.99302211, -0.57939047,  1.2513151 , -1.6803361 ],\n",
       "       [ 0.05310186,  0.46673121, -0.79915922,  0.59511904],\n",
       "       [ 0.0767123 , -0.57939047,  1.2513151 ,  0.59511904],\n",
       "       [-0.74290715, -0.57939047,  1.2513151 , -1.6803361 ],\n",
       "       [-0.36963739, -0.57939047,  1.2513151 ,  0.59511904],\n",
       "       [ 0.8176303 ,  1.51285289, -0.79915922,  0.59511904],\n",
       "       [-1.1307929 , -0.57939047, -0.79915922,  0.59511904],\n",
       "       [ 0.96041722,  2.55897458,  1.2513151 ,  0.59511904],\n",
       "       [-0.69568628, -0.57939047,  1.2513151 , -1.6803361 ],\n",
       "       [ 0.12168456,  2.55897458, -0.79915922,  0.59511904],\n",
       "       [ 0.00475668, -0.57939047, -0.79915922,  0.59511904],\n",
       "       [ 0.50057586,  0.46673121, -0.79915922,  0.59511904],\n",
       "       [-0.29430885, -0.57939047, -0.79915922,  0.59511904],\n",
       "       [ 0.55229396,  0.46673121, -0.79915922,  0.59511904],\n",
       "       [-0.14814901, -0.57939047, -0.79915922,  0.59511904],\n",
       "       [ 1.36067034,  1.51285289, -0.79915922,  0.59511904],\n",
       "       [-0.40111797,  0.46673121, -0.79915922,  0.59511904],\n",
       "       [ 3.22252194,  1.51285289, -0.79915922,  0.59511904],\n",
       "       [-0.68556752, -0.57939047,  1.2513151 , -1.6803361 ],\n",
       "       [ 0.29482776, -0.57939047, -0.79915922,  0.59511904],\n",
       "       [ 0.60626067,  1.51285289, -0.79915922,  0.59511904],\n",
       "       [-0.35277279,  0.46673121,  1.2513151 , -1.6803361 ],\n",
       "       [ 0.14754361, -0.57939047, -0.79915922,  0.59511904],\n",
       "       [-1.043097  ,  0.46673121, -0.79915922,  0.59511904],\n",
       "       [ 2.14993352,  1.51285289,  1.2513151 ,  0.59511904],\n",
       "       [-0.6136119 , -0.57939047, -0.79915922, -1.6803361 ],\n",
       "       [ 1.16054378,  1.51285289, -0.79915922,  0.59511904],\n",
       "       [-0.74290715, -0.57939047,  1.2513151 , -1.6803361 ],\n",
       "       [-0.54840213, -0.57939047, -0.79915922,  0.59511904],\n",
       "       [-0.6304765 , -0.57939047, -0.79915922,  0.59511904],\n",
       "       [-0.10317674,  0.46673121, -0.79915922,  0.59511904],\n",
       "       [-0.77776066, -0.57939047, -0.79915922,  0.59511904],\n",
       "       [-0.24034214, -0.57939047, -0.79915922, -1.6803361 ],\n",
       "       [-0.69568628, -0.57939047, -0.79915922, -1.6803361 ],\n",
       "       [-1.3893834 , -0.57939047,  1.2513151 ,  0.59511904],\n",
       "       [-0.14927331, -0.57939047, -0.79915922, -1.6803361 ],\n",
       "       [-0.54278059, -0.57939047, -0.79915922,  0.59511904],\n",
       "       [-1.21848881, -0.57939047, -0.79915922,  0.59511904],\n",
       "       [-0.62260636, -0.57939047, -0.79915922,  0.59511904],\n",
       "       [-0.69568628, -0.57939047,  1.2513151 , -1.6803361 ],\n",
       "       [ 3.21127888,  3.60509626, -0.79915922,  0.59511904],\n",
       "       [ 1.0593562 ,  0.46673121, -0.79915922,  0.59511904],\n",
       "       [-0.42697702, -0.57939047,  1.2513151 ,  0.59511904],\n",
       "       [-1.36015143, -0.57939047, -0.79915922, -1.6803361 ],\n",
       "       [-0.72491825, -0.57939047, -0.79915922, -1.6803361 ],\n",
       "       [-1.85934353, -1.62551215,  1.2513151 ,  0.59511904],\n",
       "       [ 0.45785221, -0.57939047, -0.79915922,  0.59511904],\n",
       "       [-0.73953423, -0.57939047, -0.79915922, -1.6803361 ],\n",
       "       [ 0.12955471, -0.57939047, -0.79915922,  0.59511904],\n",
       "       [ 1.00538948,  0.46673121, -0.79915922,  0.59511904],\n",
       "       [-1.00711919, -0.57939047, -0.79915922, -1.6803361 ],\n",
       "       [-1.04759422, -0.57939047, -0.79915922,  0.59511904],\n",
       "       [-1.04197269,  0.46673121, -0.79915922,  0.59511904],\n",
       "       [-0.29655747,  0.46673121, -0.79915922,  0.59511904],\n",
       "       [-0.47082498, -0.57939047, -0.79915922,  0.59511904],\n",
       "       [-0.75415022, -0.57939047,  1.2513151 ,  0.59511904],\n",
       "       [ 2.06898345,  1.51285289,  1.2513151 ,  0.59511904],\n",
       "       [-0.20211572,  1.51285289, -0.79915922,  0.59511904],\n",
       "       [-0.4753222 , -0.57939047,  1.2513151 ,  0.59511904],\n",
       "       [-1.11617692, -0.57939047, -0.79915922,  0.59511904],\n",
       "       [ 0.36116185,  0.46673121, -0.79915922, -1.6803361 ],\n",
       "       [ 0.31618959, -0.57939047,  1.2513151 ,  0.59511904],\n",
       "       [-0.53715906, -0.57939047, -0.79915922,  0.59511904],\n",
       "       [-0.15152192, -0.57939047, -0.79915922, -1.6803361 ],\n",
       "       [ 0.01824836,  1.51285289, -0.79915922,  0.59511904],\n",
       "       [-0.25833104, -0.57939047, -0.79915922,  0.59511904],\n",
       "       [-0.09305799, -0.57939047, -0.79915922,  0.59511904],\n",
       "       [-0.85308919, -0.57939047, -0.79915922,  0.59511904],\n",
       "       [-0.6990592 , -0.57939047, -0.79915922,  0.59511904],\n",
       "       [-0.34040542, -0.57939047,  1.2513151 , -1.6803361 ],\n",
       "       [ 0.22174784, -0.57939047, -0.79915922,  0.59511904],\n",
       "       [-0.10879828,  0.46673121, -0.79915922, -1.6803361 ],\n",
       "       [-0.43147425, -0.57939047, -0.79915922,  0.59511904],\n",
       "       [-0.4056152 , -0.57939047,  1.2513151 , -1.6803361 ],\n",
       "       [-0.9407851 , -0.57939047,  1.2513151 ,  0.59511904],\n",
       "       [-0.38200476,  0.46673121, -0.79915922,  0.59511904],\n",
       "       [-1.02285948, -0.57939047, -0.79915922,  0.59511904],\n",
       "       [-0.22685046,  0.46673121, -0.79915922,  0.59511904],\n",
       "       [-0.51692154, -0.57939047,  1.2513151 ,  0.59511904],\n",
       "       [-1.07232896, -0.57939047, -0.79915922,  0.59511904],\n",
       "       [ 0.07446369, -0.57939047, -0.79915922, -1.6803361 ],\n",
       "       [-1.01386503, -0.57939047,  1.2513151 ,  0.59511904],\n",
       "       [-0.18974835, -0.57939047,  1.2513151 ,  0.59511904],\n",
       "       [-0.20548864, -0.57939047, -0.79915922,  0.59511904],\n",
       "       [ 1.15154933,  2.55897458, -0.79915922,  0.59511904],\n",
       "       [ 0.3532917 , -0.57939047, -0.79915922,  0.59511904],\n",
       "       [-0.80699263, -0.57939047, -0.79915922, -1.6803361 ],\n",
       "       [-0.85196489, -0.57939047,  1.2513151 ,  0.59511904],\n",
       "       [ 2.77617225,  0.46673121,  1.2513151 ,  0.59511904],\n",
       "       [ 1.69121646,  1.51285289,  1.2513151 ,  0.59511904],\n",
       "       [-1.55802938, -0.57939047,  1.2513151 ,  0.59511904],\n",
       "       [-0.80137109, -0.57939047, -0.79915922, -1.6803361 ],\n",
       "       [-0.80361971, -0.57939047, -0.79915922,  0.59511904],\n",
       "       [-0.47757082, -0.57939047,  1.2513151 ,  0.59511904],\n",
       "       [-1.24772078, -0.57939047, -0.79915922, -1.6803361 ],\n",
       "       [-0.19312127, -0.57939047,  1.2513151 ,  0.59511904],\n",
       "       [ 0.39264243,  0.46673121,  1.2513151 ,  0.59511904],\n",
       "       [ 0.0947012 ,  1.51285289, -0.79915922,  0.59511904],\n",
       "       [ 0.70632395,  1.51285289,  1.2513151 ,  0.59511904],\n",
       "       [ 0.34429725, -0.57939047,  1.2513151 ,  0.59511904],\n",
       "       [ 1.31120086,  0.46673121, -0.79915922,  0.59511904],\n",
       "       [-0.40786381, -0.57939047, -0.79915922, -1.6803361 ],\n",
       "       [ 0.15766237,  0.46673121, -0.79915922,  0.59511904],\n",
       "       [-1.3545299 , -0.57939047, -0.79915922, -1.6803361 ],\n",
       "       [-0.01323222, -0.57939047, -0.79915922,  0.59511904],\n",
       "       [-0.17625667, -0.57939047, -0.79915922,  0.59511904],\n",
       "       [ 0.06996646, -0.57939047, -0.79915922,  0.59511904],\n",
       "       [ 0.52418629, -0.57939047,  1.2513151 ,  0.59511904],\n",
       "       [ 1.82388463,  0.46673121, -0.79915922,  0.59511904],\n",
       "       [-0.23584491, -0.57939047,  1.2513151 ,  0.59511904],\n",
       "       [ 0.35441601, -0.57939047, -0.79915922, -1.6803361 ],\n",
       "       [-0.78787942, -0.57939047,  1.2513151 ,  0.59511904],\n",
       "       [ 0.55566688,  1.51285289, -0.79915922,  0.59511904],\n",
       "       [-1.3893834 , -1.62551215, -0.79915922,  0.59511904],\n",
       "       [-0.31342206, -0.57939047,  1.2513151 ,  0.59511904],\n",
       "       [-0.51130001, -0.57939047, -0.79915922,  0.59511904],\n",
       "       [ 0.63774125, -0.57939047,  1.2513151 ,  0.59511904],\n",
       "       [ 1.43824749,  1.51285289, -0.79915922,  0.59511904],\n",
       "       [-0.20099141, -0.57939047, -0.79915922,  0.59511904],\n",
       "       [ 0.48820848, -0.57939047, -0.79915922,  0.59511904],\n",
       "       [ 0.86260256, -0.57939047,  1.2513151 ,  0.59511904],\n",
       "       [-0.37525892, -0.57939047,  1.2513151 , -1.6803361 ],\n",
       "       [ 0.96266584,  0.46673121,  1.2513151 ,  0.59511904],\n",
       "       [ 0.76478789, -0.57939047, -0.79915922,  0.59511904],\n",
       "       [-0.41123673, -0.57939047, -0.79915922, -1.6803361 ],\n",
       "       [ 0.09919843, -0.57939047,  1.2513151 ,  0.59511904],\n",
       "       [ 1.46972808, -0.57939047,  1.2513151 , -1.6803361 ],\n",
       "       [-0.37301031,  0.46673121, -0.79915922,  0.59511904],\n",
       "       [ 0.49495432,  1.51285289,  1.2513151 ,  0.59511904],\n",
       "       [ 0.15766237, -0.57939047,  1.2513151 ,  0.59511904],\n",
       "       [-0.8373489 , -0.57939047,  1.2513151 , -1.6803361 ],\n",
       "       [-0.3550214 , -0.57939047, -0.79915922,  0.59511904],\n",
       "       [-1.24659648, -0.57939047, -0.79915922, -1.6803361 ],\n",
       "       [-0.595623  , -0.57939047,  1.2513151 ,  0.59511904]])"
      ]
     },
     "execution_count": 4,
     "metadata": {},
     "output_type": "execute_result"
    }
   ],
   "source": [
    "X_train_scaled"
   ]
  },
  {
   "cell_type": "markdown",
   "id": "1cec7002-744c-478f-aed3-809c838066be",
   "metadata": {},
   "source": [
    "## Select K Best\n",
    "\n",
    "- uses an f regression test\n",
    "- looks at each feature in isolation\n",
    "- is a model with that feature better than no model at all"
   ]
  },
  {
   "cell_type": "code",
   "execution_count": 5,
   "id": "ed7d21ea-3812-4072-8194-9b3c08df18c9",
   "metadata": {},
   "outputs": [
    {
     "data": {
      "text/plain": [
       "SelectKBest(k=3, score_func=<function f_regression at 0x7fcfae416b80>)"
      ]
     },
     "execution_count": 5,
     "metadata": {},
     "output_type": "execute_result"
    }
   ],
   "source": [
    "kbest = SelectKBest(f_regression, k=3)\n",
    "kbest.fit(X_train_scaled, y_train)"
   ]
  },
  {
   "cell_type": "code",
   "execution_count": 6,
   "id": "175bcb66-1cde-40cb-9ff1-389a79b59d7a",
   "metadata": {},
   "outputs": [
    {
     "data": {
      "text/plain": [
       "array([ True,  True, False,  True])"
      ]
     },
     "execution_count": 6,
     "metadata": {},
     "output_type": "execute_result"
    }
   ],
   "source": [
    "# returns array where number of elements = number of columns in X - var\n",
    "# booleans indicate which features were selected \n",
    "kbest.get_support()"
   ]
  },
  {
   "cell_type": "code",
   "execution_count": 7,
   "id": "f2405e32",
   "metadata": {},
   "outputs": [
    {
     "data": {
      "text/plain": [
       "array([1.72913650e+02, 6.52747700e+01, 1.53678003e-04, 1.66952954e+00])"
      ]
     },
     "execution_count": 7,
     "metadata": {},
     "output_type": "execute_result"
    }
   ],
   "source": [
    "kbest.scores_"
   ]
  },
  {
   "cell_type": "code",
   "execution_count": 8,
   "id": "2e7889bb",
   "metadata": {},
   "outputs": [
    {
     "data": {
      "text/plain": [
       "array([1.28577891e-28, 6.93874955e-14, 9.90121928e-01, 1.97866553e-01])"
      ]
     },
     "execution_count": 8,
     "metadata": {},
     "output_type": "execute_result"
    }
   ],
   "source": [
    "kbest.pvalues_"
   ]
  },
  {
   "cell_type": "code",
   "execution_count": 9,
   "id": "082cc461",
   "metadata": {},
   "outputs": [
    {
     "data": {
      "text/plain": [
       "Index(['total_bill', 'size', 'dinner'], dtype='object')"
      ]
     },
     "execution_count": 9,
     "metadata": {},
     "output_type": "execute_result"
    }
   ],
   "source": [
    "X_train.columns[kbest.get_support()]"
   ]
  },
  {
   "cell_type": "code",
   "execution_count": 10,
   "id": "633372cd",
   "metadata": {},
   "outputs": [
    {
     "data": {
      "text/html": [
       "<div>\n",
       "<style scoped>\n",
       "    .dataframe tbody tr th:only-of-type {\n",
       "        vertical-align: middle;\n",
       "    }\n",
       "\n",
       "    .dataframe tbody tr th {\n",
       "        vertical-align: top;\n",
       "    }\n",
       "\n",
       "    .dataframe thead th {\n",
       "        text-align: right;\n",
       "    }\n",
       "</style>\n",
       "<table border=\"1\" class=\"dataframe\">\n",
       "  <thead>\n",
       "    <tr style=\"text-align: right;\">\n",
       "      <th></th>\n",
       "      <th>total_bill</th>\n",
       "      <th>size</th>\n",
       "      <th>dinner</th>\n",
       "    </tr>\n",
       "  </thead>\n",
       "  <tbody>\n",
       "    <tr>\n",
       "      <th>24</th>\n",
       "      <td>39.42</td>\n",
       "      <td>4</td>\n",
       "      <td>1</td>\n",
       "    </tr>\n",
       "    <tr>\n",
       "      <th>191</th>\n",
       "      <td>15.69</td>\n",
       "      <td>2</td>\n",
       "      <td>1</td>\n",
       "    </tr>\n",
       "    <tr>\n",
       "      <th>210</th>\n",
       "      <td>12.76</td>\n",
       "      <td>2</td>\n",
       "      <td>1</td>\n",
       "    </tr>\n",
       "    <tr>\n",
       "      <th>11</th>\n",
       "      <td>10.27</td>\n",
       "      <td>2</td>\n",
       "      <td>1</td>\n",
       "    </tr>\n",
       "    <tr>\n",
       "      <th>197</th>\n",
       "      <td>10.34</td>\n",
       "      <td>2</td>\n",
       "      <td>0</td>\n",
       "    </tr>\n",
       "    <tr>\n",
       "      <th>...</th>\n",
       "      <td>...</td>\n",
       "      <td>...</td>\n",
       "      <td>...</td>\n",
       "    </tr>\n",
       "    <tr>\n",
       "      <th>99</th>\n",
       "      <td>21.01</td>\n",
       "      <td>2</td>\n",
       "      <td>1</td>\n",
       "    </tr>\n",
       "    <tr>\n",
       "      <th>221</th>\n",
       "      <td>12.16</td>\n",
       "      <td>2</td>\n",
       "      <td>0</td>\n",
       "    </tr>\n",
       "    <tr>\n",
       "      <th>67</th>\n",
       "      <td>16.45</td>\n",
       "      <td>2</td>\n",
       "      <td>1</td>\n",
       "    </tr>\n",
       "    <tr>\n",
       "      <th>127</th>\n",
       "      <td>8.52</td>\n",
       "      <td>2</td>\n",
       "      <td>0</td>\n",
       "    </tr>\n",
       "    <tr>\n",
       "      <th>110</th>\n",
       "      <td>14.31</td>\n",
       "      <td>2</td>\n",
       "      <td>1</td>\n",
       "    </tr>\n",
       "  </tbody>\n",
       "</table>\n",
       "<p>195 rows × 3 columns</p>\n",
       "</div>"
      ],
      "text/plain": [
       "     total_bill  size  dinner\n",
       "24        39.42     4       1\n",
       "191       15.69     2       1\n",
       "210       12.76     2       1\n",
       "11        10.27     2       1\n",
       "197       10.34     2       0\n",
       "..          ...   ...     ...\n",
       "99        21.01     2       1\n",
       "221       12.16     2       0\n",
       "67        16.45     2       1\n",
       "127        8.52     2       0\n",
       "110       14.31     2       1\n",
       "\n",
       "[195 rows x 3 columns]"
      ]
     },
     "execution_count": 10,
     "metadata": {},
     "output_type": "execute_result"
    }
   ],
   "source": [
    "X_train[X_train.columns[kbest.get_support()]]"
   ]
  },
  {
   "cell_type": "code",
   "execution_count": 11,
   "id": "791bc302-d1da-47fc-8418-249c6ea92518",
   "metadata": {
    "scrolled": false
   },
   "outputs": [
    {
     "data": {
      "text/plain": [
       "(195, 3)"
      ]
     },
     "execution_count": 11,
     "metadata": {},
     "output_type": "execute_result"
    }
   ],
   "source": [
    "# drops columns not chosen by kbest\n",
    "X_kbest = kbest.transform(X_train_scaled)\n",
    "X_kbest.shape"
   ]
  },
  {
   "cell_type": "code",
   "execution_count": 12,
   "id": "580c8812",
   "metadata": {},
   "outputs": [
    {
     "data": {
      "text/plain": [
       "array([[ 2.22751067,  1.51285289,  0.59511904],\n",
       "       [-0.4404687 , -0.57939047,  0.59511904],\n",
       "       [-0.76989051, -0.57939047,  0.59511904],\n",
       "       [-1.04984283, -0.57939047,  0.59511904],\n",
       "       [-1.04197269, -0.57939047, -1.6803361 ]])"
      ]
     },
     "execution_count": 12,
     "metadata": {},
     "output_type": "execute_result"
    }
   ],
   "source": [
    "X_kbest[:5]"
   ]
  },
  {
   "cell_type": "markdown",
   "id": "797d03a8-c8b6-47d0-8535-0d517c5a8230",
   "metadata": {},
   "source": [
    "<div style=\"border: 1px solid black; border-radius: 3px; background: palegreen; padding: .5em 1em;\">\n",
    "    <p style=\"font-size: 1.3em; font-weight: bold\">Mini Exercise</p>\n",
    "    <ol>\n",
    "        <li>Use <code>pydataset</code> to load the <code>swiss</code> dataset.</li>\n",
    "        <li>Split the swiss dataset into X and y, and train and test. The goal is to predict <code>Fertility</code>.</li>\n",
    "        <li>Use <code>SelectKBest</code> to find the top 3 features that predict fertility in the swiss data set.</li>\n",
    "    </ol>\n",
    "</div>"
   ]
  },
  {
   "cell_type": "code",
   "execution_count": 13,
   "id": "53dddd35",
   "metadata": {
    "scrolled": true
   },
   "outputs": [
    {
     "data": {
      "text/html": [
       "<div>\n",
       "<style scoped>\n",
       "    .dataframe tbody tr th:only-of-type {\n",
       "        vertical-align: middle;\n",
       "    }\n",
       "\n",
       "    .dataframe tbody tr th {\n",
       "        vertical-align: top;\n",
       "    }\n",
       "\n",
       "    .dataframe thead th {\n",
       "        text-align: right;\n",
       "    }\n",
       "</style>\n",
       "<table border=\"1\" class=\"dataframe\">\n",
       "  <thead>\n",
       "    <tr style=\"text-align: right;\">\n",
       "      <th></th>\n",
       "      <th>Fertility</th>\n",
       "      <th>Agriculture</th>\n",
       "      <th>Examination</th>\n",
       "      <th>Education</th>\n",
       "      <th>Catholic</th>\n",
       "      <th>Infant.Mortality</th>\n",
       "    </tr>\n",
       "  </thead>\n",
       "  <tbody>\n",
       "    <tr>\n",
       "      <th>Courtelary</th>\n",
       "      <td>80.2</td>\n",
       "      <td>17.0</td>\n",
       "      <td>15</td>\n",
       "      <td>12</td>\n",
       "      <td>9.96</td>\n",
       "      <td>22.2</td>\n",
       "    </tr>\n",
       "    <tr>\n",
       "      <th>Delemont</th>\n",
       "      <td>83.1</td>\n",
       "      <td>45.1</td>\n",
       "      <td>6</td>\n",
       "      <td>9</td>\n",
       "      <td>84.84</td>\n",
       "      <td>22.2</td>\n",
       "    </tr>\n",
       "    <tr>\n",
       "      <th>Franches-Mnt</th>\n",
       "      <td>92.5</td>\n",
       "      <td>39.7</td>\n",
       "      <td>5</td>\n",
       "      <td>5</td>\n",
       "      <td>93.40</td>\n",
       "      <td>20.2</td>\n",
       "    </tr>\n",
       "    <tr>\n",
       "      <th>Moutier</th>\n",
       "      <td>85.8</td>\n",
       "      <td>36.5</td>\n",
       "      <td>12</td>\n",
       "      <td>7</td>\n",
       "      <td>33.77</td>\n",
       "      <td>20.3</td>\n",
       "    </tr>\n",
       "    <tr>\n",
       "      <th>Neuveville</th>\n",
       "      <td>76.9</td>\n",
       "      <td>43.5</td>\n",
       "      <td>17</td>\n",
       "      <td>15</td>\n",
       "      <td>5.16</td>\n",
       "      <td>20.6</td>\n",
       "    </tr>\n",
       "  </tbody>\n",
       "</table>\n",
       "</div>"
      ],
      "text/plain": [
       "              Fertility  Agriculture  Examination  Education  Catholic  \\\n",
       "Courtelary         80.2         17.0           15         12      9.96   \n",
       "Delemont           83.1         45.1            6          9     84.84   \n",
       "Franches-Mnt       92.5         39.7            5          5     93.40   \n",
       "Moutier            85.8         36.5           12          7     33.77   \n",
       "Neuveville         76.9         43.5           17         15      5.16   \n",
       "\n",
       "              Infant.Mortality  \n",
       "Courtelary                22.2  \n",
       "Delemont                  22.2  \n",
       "Franches-Mnt              20.2  \n",
       "Moutier                   20.3  \n",
       "Neuveville                20.6  "
      ]
     },
     "execution_count": 13,
     "metadata": {},
     "output_type": "execute_result"
    }
   ],
   "source": [
    "swiss = pydataset.data('swiss')\n",
    "swiss.head()"
   ]
  },
  {
   "cell_type": "code",
   "execution_count": 31,
   "id": "2a6819ec",
   "metadata": {},
   "outputs": [
    {
     "data": {
      "text/plain": [
       "SelectKBest(k=3, score_func=<function f_regression at 0x7fcfae416b80>)"
      ]
     },
     "execution_count": 31,
     "metadata": {},
     "output_type": "execute_result"
    }
   ],
   "source": [
    "X = swiss[['Agriculture', 'Examination', 'Education', 'Catholic', 'Infant.Mortality']]\n",
    "y = swiss['Fertility']\n",
    "\n",
    "X_train, X_test, y_train, y_test = train_test_split(X, y, test_size=.2, random_state=123)\n",
    "\n",
    "# Scale the data\n",
    "scaler = StandardScaler()\n",
    "X_train_scaled = scaler.fit_transform(X_train)\n",
    "X_test_scaled = scaler.transform(X_test)\n",
    "\n",
    "# Create and fit\n",
    "kbest = SelectKBest(f_regression, k=3)\n",
    "kbest.fit(X_train_scaled, y_train)"
   ]
  },
  {
   "cell_type": "code",
   "execution_count": 32,
   "id": "19c70b93",
   "metadata": {
    "scrolled": false
   },
   "outputs": [
    {
     "data": {
      "text/plain": [
       "Index(['Examination', 'Education', 'Catholic'], dtype='object')"
      ]
     },
     "execution_count": 32,
     "metadata": {},
     "output_type": "execute_result"
    }
   ],
   "source": [
    "X_train.columns[kbest.get_support()]"
   ]
  },
  {
   "cell_type": "code",
   "execution_count": 33,
   "id": "9c8e950e",
   "metadata": {
    "scrolled": true
   },
   "outputs": [
    {
     "data": {
      "text/plain": [
       "(37, 3)"
      ]
     },
     "execution_count": 33,
     "metadata": {},
     "output_type": "execute_result"
    }
   ],
   "source": [
    "X_kbest = kbest.transform(X_train_scaled)\n",
    "X_kbest.shape"
   ]
  },
  {
   "cell_type": "code",
   "execution_count": 34,
   "id": "ec937355",
   "metadata": {},
   "outputs": [
    {
     "data": {
      "text/html": [
       "<div>\n",
       "<style scoped>\n",
       "    .dataframe tbody tr th:only-of-type {\n",
       "        vertical-align: middle;\n",
       "    }\n",
       "\n",
       "    .dataframe tbody tr th {\n",
       "        vertical-align: top;\n",
       "    }\n",
       "\n",
       "    .dataframe thead th {\n",
       "        text-align: right;\n",
       "    }\n",
       "</style>\n",
       "<table border=\"1\" class=\"dataframe\">\n",
       "  <thead>\n",
       "    <tr style=\"text-align: right;\">\n",
       "      <th></th>\n",
       "      <th>Examination</th>\n",
       "      <th>Education</th>\n",
       "      <th>Catholic</th>\n",
       "    </tr>\n",
       "  </thead>\n",
       "  <tbody>\n",
       "    <tr>\n",
       "      <th>Rolle</th>\n",
       "      <td>16</td>\n",
       "      <td>10</td>\n",
       "      <td>7.72</td>\n",
       "    </tr>\n",
       "    <tr>\n",
       "      <th>Grandson</th>\n",
       "      <td>17</td>\n",
       "      <td>8</td>\n",
       "      <td>3.30</td>\n",
       "    </tr>\n",
       "    <tr>\n",
       "      <th>Vevey</th>\n",
       "      <td>25</td>\n",
       "      <td>19</td>\n",
       "      <td>18.46</td>\n",
       "    </tr>\n",
       "    <tr>\n",
       "      <th>Aubonne</th>\n",
       "      <td>14</td>\n",
       "      <td>7</td>\n",
       "      <td>2.27</td>\n",
       "    </tr>\n",
       "    <tr>\n",
       "      <th>Moudon</th>\n",
       "      <td>14</td>\n",
       "      <td>3</td>\n",
       "      <td>4.52</td>\n",
       "    </tr>\n",
       "  </tbody>\n",
       "</table>\n",
       "</div>"
      ],
      "text/plain": [
       "          Examination  Education  Catholic\n",
       "Rolle              16         10      7.72\n",
       "Grandson           17          8      3.30\n",
       "Vevey              25         19     18.46\n",
       "Aubonne            14          7      2.27\n",
       "Moudon             14          3      4.52"
      ]
     },
     "execution_count": 34,
     "metadata": {},
     "output_type": "execute_result"
    }
   ],
   "source": [
    "X_train[X_train.columns[kbest.get_support()]].sample(5)"
   ]
  },
  {
   "cell_type": "code",
   "execution_count": 41,
   "id": "e27c75ff",
   "metadata": {},
   "outputs": [
    {
     "name": "stdout",
     "output_type": "stream",
     "text": [
      "Agriculture 0: 2.383293\n",
      "Examination 1: 14.806314\n",
      "Education 2: 15.085392\n",
      "Catholic 3: 9.737175\n",
      "Infant.Mortality 4: 3.215111\n"
     ]
    },
    {
     "data": {
      "image/png": "[encoded data removed]",
      "text/plain": [
       "<Figure size 432x288 with 1 Axes>"
      ]
     },
     "metadata": {
      "needs_background": "light"
     },
     "output_type": "display_data"
    }
   ],
   "source": [
    "# Courtesy of Brandon Sharpe\n",
    "for i in range(len(kbest.scores_)):\n",
    "    print(f'{X_train.columns[i]} %d: %f' % (i, kbest.scores_[i]))\n",
    "# plot the scores\n",
    "plt.bar([i for i in range(len(kbest.scores_))], kbest.scores_)\n",
    "plt.show()"
   ]
  },
  {
   "cell_type": "markdown",
   "id": "70f3bcf1-35a0-44e5-8637-f2d538858cee",
   "metadata": {},
   "source": [
    "## Recursive Feature Elimination\n",
    "\n",
    "- Fits a model and eliminates the worst performing features\n",
    "- More computationally expensive\n",
    "- Looks at all the features together\n",
    "    - Drops lowest feature\n",
    "    - Repeat...\n",
    "- **Only works for models that have feature importance concept within model** (Won't work with KNN)\n",
    "- Should be done on scaled data"
   ]
  },
  {
   "cell_type": "code",
   "execution_count": 53,
   "id": "c34cd66c",
   "metadata": {},
   "outputs": [],
   "source": [
    "X = tips[['total_bill', 'size', 'smoker', 'dinner']]\n",
    "y = tips.tip\n",
    "\n",
    "X_train, X_test, y_train, y_test = train_test_split(X, y, test_size=.2, random_state=123)\n",
    "scaler = StandardScaler()\n",
    "X_train_scaled = scaler.fit_transform(X_train)\n",
    "X_test_scaled = scaler.transform(X_test)"
   ]
  },
  {
   "cell_type": "code",
   "execution_count": 61,
   "id": "a9a5375b-29ff-42b7-ab6b-cffd94edb649",
   "metadata": {},
   "outputs": [
    {
     "data": {
      "text/plain": [
       "array([ True,  True,  True, False])"
      ]
     },
     "execution_count": 61,
     "metadata": {},
     "output_type": "execute_result"
    }
   ],
   "source": [
    "rfe = RFE(estimator=LinearRegression(), n_features_to_select=3)\n",
    "rfe.fit(X_train_scaled, y_train)\n",
    "rfe.get_support()"
   ]
  },
  {
   "cell_type": "code",
   "execution_count": 62,
   "id": "eb4eca54",
   "metadata": {},
   "outputs": [
    {
     "data": {
      "text/plain": [
       "Index(['total_bill', 'size', 'smoker'], dtype='object')"
      ]
     },
     "execution_count": 62,
     "metadata": {},
     "output_type": "execute_result"
    }
   ],
   "source": [
    "X_train.columns[rfe.get_support()]"
   ]
  },
  {
   "cell_type": "code",
   "execution_count": 63,
   "id": "b8914b8e-c85d-4b76-917a-9e26d39d1bc5",
   "metadata": {},
   "outputs": [
    {
     "data": {
      "text/plain": [
       "total_bill    1\n",
       "size          1\n",
       "smoker        1\n",
       "dinner        2\n",
       "dtype: int64"
      ]
     },
     "execution_count": 63,
     "metadata": {},
     "output_type": "execute_result"
    }
   ],
   "source": [
    "pd.Series(rfe.ranking_, index=X_train.columns)"
   ]
  },
  {
   "cell_type": "markdown",
   "id": "8627ebe6-f801-4d97-b901-ce9c686b0d15",
   "metadata": {},
   "source": [
    "<div style=\"border: 1px solid black; border-radius: 3px; background: palegreen; padding: .5em 1em;\">\n",
    "    <p style=\"font-size: 1.3em; font-weight: bold\">Mini Exercise</p>\n",
    "    <ol>\n",
    "        <li>Use <code>RFE</code> and <code>LinearRegression</code> to find the top 3 features that predict fertility in the swiss data set.</li>\n",
    "        <li>Are the results different than what select k best gave you?</li>\n",
    "    </ol>\n",
    "</div>"
   ]
  },
  {
   "cell_type": "code",
   "execution_count": 69,
   "id": "ef11cc80",
   "metadata": {},
   "outputs": [
    {
     "data": {
      "text/plain": [
       "Index(['Agriculture', 'Education', 'Catholic'], dtype='object')"
      ]
     },
     "execution_count": 69,
     "metadata": {},
     "output_type": "execute_result"
    }
   ],
   "source": [
    "X = swiss[['Agriculture', 'Examination', 'Education', 'Catholic', 'Infant.Mortality']]\n",
    "y = swiss['Fertility']\n",
    "\n",
    "X_train, X_test, y_train, y_test = train_test_split(X, y, test_size=.2, random_state=123)\n",
    "\n",
    "# Scale the data\n",
    "scaler = StandardScaler()\n",
    "X_train_scaled = scaler.fit_transform(X_train)\n",
    "X_test_scaled = scaler.transform(X_test)\n",
    "\n",
    "# Create and fit\n",
    "rfe = RFE(estimator=LinearRegression(), n_features_to_select=3)\n",
    "rfe.fit(X_train_scaled, y_train)\n",
    "X_train.columns[rfe.get_support()]"
   ]
  },
  {
   "cell_type": "code",
   "execution_count": 67,
   "id": "0d1f35c6",
   "metadata": {},
   "outputs": [
    {
     "data": {
      "text/plain": [
       "Agriculture         1\n",
       "Examination         3\n",
       "Education           1\n",
       "Catholic            1\n",
       "Infant.Mortality    2\n",
       "dtype: int64"
      ]
     },
     "execution_count": 67,
     "metadata": {},
     "output_type": "execute_result"
    }
   ],
   "source": [
    "pd.Series(rfe.ranking_, index=X_train.columns)"
   ]
  }
 ],
 "metadata": {
  "kernelspec": {
   "display_name": "Python 3",
   "language": "python",
   "name": "python3"
  },
  "language_info": {
   "codemirror_mode": {
    "name": "ipython",
    "version": 3
   },
   "file_extension": ".py",
   "mimetype": "text/x-python",
   "name": "python",
   "nbconvert_exporter": "python",
   "pygments_lexer": "ipython3",
   "version": "3.8.8"
  }
 },
 "nbformat": 4,
 "nbformat_minor": 5
}
